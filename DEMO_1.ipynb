{
  "nbformat": 4,
  "nbformat_minor": 0,
  "metadata": {
    "colab": {
      "name": "DEMO 1.ipynb",
      "provenance": [],
      "collapsed_sections": [],
      "authorship_tag": "ABX9TyN2HT+1RT3S21Z5DRk0kkMz",
      "include_colab_link": true
    },
    "kernelspec": {
      "name": "python3",
      "display_name": "Python 3"
    },
    "language_info": {
      "name": "python"
    }
  },
  "cells": [
    {
      "cell_type": "markdown",
      "metadata": {
        "id": "view-in-github",
        "colab_type": "text"
      },
      "source": [
        "<a href=\"https://colab.research.google.com/github/danicaroa/Numerical-Methods/blob/main/DEMO_1.ipynb\" target=\"_parent\"><img src=\"https://colab.research.google.com/assets/colab-badge.svg\" alt=\"Open In Colab\"/></a>"
      ]
    },
    {
      "cell_type": "markdown",
      "metadata": {
        "id": "pLn3UdeZZnaQ"
      },
      "source": [
        "\n",
        "Introduction to Python"
      ]
    },
    {
      "cell_type": "code",
      "metadata": {
        "colab": {
          "base_uri": "https://localhost:8080/"
        },
        "id": "dFWstnQOYzf1",
        "outputId": "5d9aeba5-b0ee-4155-ac17-b86fc59fef14"
      },
      "source": [
        "j= \"enjoying\"\n",
        "print (\"Python programming is \" + j)"
      ],
      "execution_count": null,
      "outputs": [
        {
          "output_type": "stream",
          "text": [
            "Python programming is enjoying\n"
          ],
          "name": "stdout"
        }
      ]
    },
    {
      "cell_type": "code",
      "metadata": {
        "colab": {
          "base_uri": "https://localhost:8080/"
        },
        "id": "whve9N4LZeCu",
        "outputId": "2f62cf8a-d72f-46c0-ec11-9fdb6948caf2"
      },
      "source": [
        "\n",
        "x = 5\n",
        "y = 3\n",
        "x + y"
      ],
      "execution_count": null,
      "outputs": [
        {
          "output_type": "execute_result",
          "data": {
            "text/plain": [
              "8"
            ]
          },
          "metadata": {},
          "execution_count": 2
        }
      ]
    },
    {
      "cell_type": "code",
      "metadata": {
        "colab": {
          "base_uri": "https://localhost:8080/"
        },
        "id": "4Kg6JO7FZiDp",
        "outputId": "42ecc42d-1082-46e0-f23b-014f9abcb364"
      },
      "source": [
        "\n",
        "x = 5\n",
        "y = 3\n",
        "sum = x + y\n",
        "sum"
      ],
      "execution_count": null,
      "outputs": [
        {
          "output_type": "execute_result",
          "data": {
            "text/plain": [
              "8"
            ]
          },
          "metadata": {},
          "execution_count": 3
        }
      ]
    },
    {
      "cell_type": "code",
      "metadata": {
        "id": "ZW3tgHZeZvZ-"
      },
      "source": [
        "a, b, c =0, -1, 6\n",
        "c%=2  \n",
        "c"
      ],
      "execution_count": null,
      "outputs": []
    },
    {
      "cell_type": "code",
      "metadata": {
        "colab": {
          "base_uri": "https://localhost:8080/"
        },
        "id": "KX5LmN8mZvec",
        "outputId": "716124e6-1d59-4d2e-bc13-6036228846da"
      },
      "source": [
        "\n",
        "a, b, c =0, -1, 5 \n",
        "c%=2 \n",
        "c"
      ],
      "execution_count": null,
      "outputs": [
        {
          "output_type": "execute_result",
          "data": {
            "text/plain": [
              "1"
            ]
          },
          "metadata": {},
          "execution_count": 5
        }
      ]
    },
    {
      "cell_type": "code",
      "metadata": {
        "colab": {
          "base_uri": "https://localhost:8080/"
        },
        "id": "RbhI3mjMZ3tU",
        "outputId": "84e36c27-16f6-4ab5-bc36-6a1c6ea1118b"
      },
      "source": [
        "\n",
        "x = 3  \n",
        "y = 5\n",
        "compare = x>y\n",
        "print (compare)"
      ],
      "execution_count": null,
      "outputs": [
        {
          "output_type": "stream",
          "text": [
            "False\n"
          ],
          "name": "stdout"
        }
      ]
    },
    {
      "cell_type": "code",
      "metadata": {
        "colab": {
          "base_uri": "https://localhost:8080/"
        },
        "id": "rbCR4VG6Z6xf",
        "outputId": "970b6db3-9995-4857-f005-15613f1fb2f8"
      },
      "source": [
        "x = 3  \n",
        "y = 5\n",
        "\n",
        "x>2 and y>4"
      ],
      "execution_count": null,
      "outputs": [
        {
          "output_type": "execute_result",
          "data": {
            "text/plain": [
              "True"
            ]
          },
          "metadata": {},
          "execution_count": 7
        }
      ]
    },
    {
      "cell_type": "code",
      "metadata": {
        "colab": {
          "base_uri": "https://localhost:8080/"
        },
        "id": "hMsKw5FHZ97Z",
        "outputId": "4194ff2b-8aa1-4cd7-f0fd-0e4c1387556f"
      },
      "source": [
        "x = 3  \n",
        "y = 5\n",
        "\n",
        "x is y"
      ],
      "execution_count": null,
      "outputs": [
        {
          "output_type": "execute_result",
          "data": {
            "text/plain": [
              "False"
            ]
          },
          "metadata": {},
          "execution_count": 8
        }
      ]
    },
    {
      "cell_type": "code",
      "metadata": {
        "id": "kpomiV3laAxd"
      },
      "source": [
        "x = 3  \n",
        "y = 5\n",
        "\n",
        "x is not y"
      ],
      "execution_count": null,
      "outputs": []
    }
  ]
}