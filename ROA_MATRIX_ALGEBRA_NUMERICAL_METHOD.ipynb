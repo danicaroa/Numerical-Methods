{
  "nbformat": 4,
  "nbformat_minor": 0,
  "metadata": {
    "colab": {
      "name": "ROA_MATRIX ALGEBRA_NUMERICAL METHOD.ipynb",
      "provenance": [],
      "collapsed_sections": [],
      "authorship_tag": "ABX9TyM//Ie22SMj2dZ1i0U5SXoy",
      "include_colab_link": true
    },
    "kernelspec": {
      "name": "python3",
      "display_name": "Python 3"
    },
    "language_info": {
      "name": "python"
    }
  },
  "cells": [
    {
      "cell_type": "markdown",
      "metadata": {
        "id": "view-in-github",
        "colab_type": "text"
      },
      "source": [
        "<a href=\"https://colab.research.google.com/github/danicaroa/Numerical-Methods/blob/main/ROA_MATRIX_ALGEBRA_NUMERICAL_METHOD.ipynb\" target=\"_parent\"><img src=\"https://colab.research.google.com/assets/colab-badge.svg\" alt=\"Open In Colab\"/></a>"
      ]
    },
    {
      "cell_type": "markdown",
      "metadata": {
        "id": "zsUxMOTOUUVV"
      },
      "source": [
        "## MATRIX AND ITS OPERATIONS"
      ]
    },
    {
      "cell_type": "markdown",
      "metadata": {
        "id": "cVvvegC8Xm9u"
      },
      "source": [
        "1 x 3 ARRAY"
      ]
    },
    {
      "cell_type": "code",
      "metadata": {
        "colab": {
          "base_uri": "https://localhost:8080/"
        },
        "id": "7ey99rVfUX2g",
        "outputId": "22652c7f-3016-43a7-bcce-0fe15ef7550c"
      },
      "source": [
        "import numpy as np\n",
        "a = np.array([1,2,3]) #This is example of 1 x 3 array\n",
        "print(a)"
      ],
      "execution_count": null,
      "outputs": [
        {
          "output_type": "stream",
          "name": "stdout",
          "text": [
            "[1 2 3]\n"
          ]
        }
      ]
    },
    {
      "cell_type": "code",
      "metadata": {
        "colab": {
          "base_uri": "https://localhost:8080/"
        },
        "id": "cCOPps8fW-R-",
        "outputId": "cfefb0f2-d6dd-440f-c61f-762048cc8bea"
      },
      "source": [
        "import numpy as np\n",
        "a = np.array([1,2,3]) #This is example of 1 x 3 array\n",
        "a[0]=4\n",
        "print(a)"
      ],
      "execution_count": null,
      "outputs": [
        {
          "output_type": "stream",
          "name": "stdout",
          "text": [
            "[4 2 3]\n"
          ]
        }
      ]
    },
    {
      "cell_type": "markdown",
      "metadata": {
        "id": "WLnVhWVxXhyx"
      },
      "source": [
        "2 x 3 matrix"
      ]
    },
    {
      "cell_type": "code",
      "metadata": {
        "colab": {
          "base_uri": "https://localhost:8080/"
        },
        "id": "NHBrVmcRU07j",
        "outputId": "dacb6a49-19bc-4a6b-b1ee-6899862c2585"
      },
      "source": [
        "import numpy as np\n",
        "b = np.array([[1,2,3],[4,5,6]]) #This is example of 2 x 3 matrix\n",
        "print(b)"
      ],
      "execution_count": null,
      "outputs": [
        {
          "output_type": "stream",
          "name": "stdout",
          "text": [
            "[[1 2 3]\n",
            " [4 5 6]]\n"
          ]
        }
      ]
    },
    {
      "cell_type": "code",
      "metadata": {
        "colab": {
          "base_uri": "https://localhost:8080/"
        },
        "id": "aoOT-qqUVd3R",
        "outputId": "865ef090-3fdc-44cf-98b6-5a4471c9c6f5"
      },
      "source": [
        "import numpy as np\n",
        "b = np.array([[1,2,3],[4,5,6]]) #This is example of 2 x 3 matrix\n",
        "print(b)\n",
        "print(b.shape) #shape"
      ],
      "execution_count": null,
      "outputs": [
        {
          "output_type": "stream",
          "name": "stdout",
          "text": [
            "[[1 2 3]\n",
            " [4 5 6]]\n",
            "(2, 3)\n"
          ]
        }
      ]
    },
    {
      "cell_type": "code",
      "metadata": {
        "colab": {
          "base_uri": "https://localhost:8080/"
        },
        "id": "BzsEnZFXWUKV",
        "outputId": "020ddfd7-a0d7-4043-8659-d989233f4346"
      },
      "source": [
        "import numpy as np\n",
        "b = np.array([[1,2,3],[4,5,6]]) #This is example of 2 x 3 matrix\n",
        "b[0,0]=7 #method\n",
        "print(b)"
      ],
      "execution_count": null,
      "outputs": [
        {
          "output_type": "stream",
          "name": "stdout",
          "text": [
            "[[7 2 3]\n",
            " [4 5 6]]\n"
          ]
        }
      ]
    },
    {
      "cell_type": "markdown",
      "metadata": {
        "id": "Ws_kToGCXrqy"
      },
      "source": [
        "3 X 3 MATRIX"
      ]
    },
    {
      "cell_type": "code",
      "metadata": {
        "colab": {
          "base_uri": "https://localhost:8080/"
        },
        "id": "NYKK_ZXdXXv3",
        "outputId": "c8da6fc9-e2bb-4457-a83c-f9dd090a84eb"
      },
      "source": [
        "import numpy as np\n",
        "c = np.array([[1,2,3],[4,5,6],[7,8,9]]) #This is example of Square matrix\n",
        "\n",
        "print(c)"
      ],
      "execution_count": null,
      "outputs": [
        {
          "output_type": "stream",
          "name": "stdout",
          "text": [
            "[[1 2 3]\n",
            " [4 5 6]\n",
            " [7 8 9]]\n"
          ]
        }
      ]
    },
    {
      "cell_type": "code",
      "metadata": {
        "colab": {
          "base_uri": "https://localhost:8080/"
        },
        "id": "KJSzADmBXu29",
        "outputId": "e7eb4fa1-f8b3-42dc-d5ac-0784f85ea2dd"
      },
      "source": [
        "import numpy as np\n",
        "d = np.full((2,2),6)  \n",
        "print(d)"
      ],
      "execution_count": null,
      "outputs": [
        {
          "output_type": "stream",
          "name": "stdout",
          "text": [
            "[[6 6]\n",
            " [6 6]]\n"
          ]
        }
      ]
    },
    {
      "cell_type": "markdown",
      "metadata": {
        "id": "g8kkneKoYR-m"
      },
      "source": [
        "IDENTITY MATRIX"
      ]
    },
    {
      "cell_type": "code",
      "metadata": {
        "colab": {
          "base_uri": "https://localhost:8080/"
        },
        "id": "3z3Em-cDYMVk",
        "outputId": "35917a20-c4bf-4bad-e7c7-fef5fa049070"
      },
      "source": [
        "import numpy as np\n",
        "e = np.eye(2) #eye = identity\n",
        "print(e)"
      ],
      "execution_count": null,
      "outputs": [
        {
          "output_type": "stream",
          "name": "stdout",
          "text": [
            "[[1. 0.]\n",
            " [0. 1.]]\n"
          ]
        }
      ]
    },
    {
      "cell_type": "code",
      "metadata": {
        "colab": {
          "base_uri": "https://localhost:8080/"
        },
        "id": "efTC5-ViYcMM",
        "outputId": "827d6d02-5bdd-4986-df44-86acf9b7e065"
      },
      "source": [
        "import numpy as np\n",
        "f = np.diagonal([[1,2,3],[4,5,6],[7,8,9]]) #This is example of Diagonal Identity\n",
        "\n",
        "print(f)"
      ],
      "execution_count": null,
      "outputs": [
        {
          "output_type": "stream",
          "name": "stdout",
          "text": [
            "[1 5 9]\n"
          ]
        }
      ]
    },
    {
      "cell_type": "markdown",
      "metadata": {
        "id": "i1RRu8PgZwSc"
      },
      "source": [
        "EMPTY MATRIX"
      ]
    },
    {
      "cell_type": "code",
      "metadata": {
        "colab": {
          "base_uri": "https://localhost:8080/"
        },
        "id": "uA9kudvGZxoR",
        "outputId": "5ff6e5e4-142c-43a9-f31b-2bbb1da38b8e"
      },
      "source": [
        "import numpy as np\n",
        "g = np.empty((0,10))\n",
        "\n",
        "print(g)"
      ],
      "execution_count": null,
      "outputs": [
        {
          "output_type": "stream",
          "name": "stdout",
          "text": [
            "[]\n"
          ]
        }
      ]
    },
    {
      "cell_type": "code",
      "metadata": {
        "colab": {
          "base_uri": "https://localhost:8080/"
        },
        "id": "uDuX09JRaA40",
        "outputId": "265ff32f-02d3-46bf-e163-c83572f23468"
      },
      "source": [
        "import numpy as np\n",
        "h = np.zeros((2,2))\n",
        "print(h)"
      ],
      "execution_count": null,
      "outputs": [
        {
          "output_type": "stream",
          "name": "stdout",
          "text": [
            "[[0. 0.]\n",
            " [0. 0.]]\n"
          ]
        }
      ]
    },
    {
      "cell_type": "code",
      "metadata": {
        "colab": {
          "base_uri": "https://localhost:8080/"
        },
        "id": "47JwNcFTadLW",
        "outputId": "d06e87fa-1b10-4b4a-9ed9-4d7cc9f7580b"
      },
      "source": [
        "import numpy as np\n",
        "i = np.eye(2) #eye = identity\n",
        "j = np.zeros((2,2))\n",
        "print(i)\n",
        "print(j)"
      ],
      "execution_count": null,
      "outputs": [
        {
          "output_type": "stream",
          "name": "stdout",
          "text": [
            "[[1. 0.]\n",
            " [0. 1.]]\n",
            "[[0. 0.]\n",
            " [0. 0.]]\n"
          ]
        }
      ]
    },
    {
      "cell_type": "code",
      "metadata": {
        "colab": {
          "base_uri": "https://localhost:8080/"
        },
        "id": "YcNkzx2FauRT",
        "outputId": "3f149b90-e68f-47ea-a8ae-ecae6b850b2c"
      },
      "source": [
        "import numpy as np\n",
        "i = np.eye(2) #eye = identity\n",
        "j = np.zeros((2,2))\n",
        "print(i+j)"
      ],
      "execution_count": null,
      "outputs": [
        {
          "output_type": "stream",
          "name": "stdout",
          "text": [
            "[[1. 0.]\n",
            " [0. 1.]]\n"
          ]
        }
      ]
    },
    {
      "cell_type": "code",
      "metadata": {
        "colab": {
          "base_uri": "https://localhost:8080/"
        },
        "id": "BVsqhSjcbPJf",
        "outputId": "2b24d882-64c5-45b5-b644-8c3588ea85af"
      },
      "source": [
        "import numpy as np\n",
        "i = np.eye(2) #eye = identity\n",
        "j = np.zeros((2,2))\n",
        "print(i)\n",
        "print(j)\n",
        "print(i+j)  #gets the summation of the matrices i and j\n",
        "print(i-j)  #gets the difference of the matrices i and j\n",
        "print(j-i)"
      ],
      "execution_count": null,
      "outputs": [
        {
          "output_type": "stream",
          "name": "stdout",
          "text": [
            "[[1. 0.]\n",
            " [0. 1.]]\n",
            "[[0. 0.]\n",
            " [0. 0.]]\n",
            "[[1. 0.]\n",
            " [0. 1.]]\n",
            "[[1. 0.]\n",
            " [0. 1.]]\n",
            "[[-1.  0.]\n",
            " [ 0. -1.]]\n"
          ]
        }
      ]
    }
  ]
}