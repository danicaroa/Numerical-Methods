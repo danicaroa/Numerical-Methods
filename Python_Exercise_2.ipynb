{
  "nbformat": 4,
  "nbformat_minor": 0,
  "metadata": {
    "colab": {
      "name": "Python Exercise 2",
      "provenance": [],
      "collapsed_sections": [],
      "authorship_tag": "ABX9TyNYQVZ9IZdmQkrTw1O9SkEp",
      "include_colab_link": true
    },
    "kernelspec": {
      "name": "python3",
      "display_name": "Python 3"
    },
    "language_info": {
      "name": "python"
    }
  },
  "cells": [
    {
      "cell_type": "markdown",
      "metadata": {
        "id": "view-in-github",
        "colab_type": "text"
      },
      "source": [
        "<a href=\"https://colab.research.google.com/github/danicaroa/Numerical-Methods/blob/main/Python_Exercise_2.ipynb\" target=\"_parent\"><img src=\"https://colab.research.google.com/assets/colab-badge.svg\" alt=\"Open In Colab\"/></a>"
      ]
    },
    {
      "cell_type": "markdown",
      "metadata": {
        "id": "Zf2CzJxFcJ9g"
      },
      "source": [
        "## Matrix and Its Operations"
      ]
    },
    {
      "cell_type": "markdown",
      "metadata": {
        "id": "EldbUJcean65"
      },
      "source": [
        "Create a NumPy program that performs the operations of the given matrices:\n",
        "\n",
        "1 sum = A +B \n",
        "\n",
        "2 difference1 = B - A\n",
        "\n",
        "3 difference2 = A - B"
      ]
    },
    {
      "cell_type": "code",
      "metadata": {
        "colab": {
          "base_uri": "https://localhost:8080/"
        },
        "id": "PaYJuolPa4Ko",
        "outputId": "4536760e-8caf-4c8d-e6af-10585109cb4d"
      },
      "source": [
        "import numpy as np\n",
        "a = np.array([[-5,0],[4,1]]) \n",
        "b = np.array([[6,-3],[2,3]])\n",
        "sum = a + b\n",
        "print (sum)"
      ],
      "execution_count": null,
      "outputs": [
        {
          "output_type": "stream",
          "name": "stdout",
          "text": [
            "[[ 1 -3]\n",
            " [ 6  4]]\n"
          ]
        }
      ]
    },
    {
      "cell_type": "code",
      "metadata": {
        "colab": {
          "base_uri": "https://localhost:8080/"
        },
        "id": "i61w_Bmjbyy3",
        "outputId": "fed85a59-e255-454b-f6fb-1daf9302467a"
      },
      "source": [
        "import numpy as np\n",
        "a = np.array([[-5,0],[4,1]]) \n",
        "b = np.array([[6,-3],[2,3]])\n",
        "difference1 = b - a\n",
        "print (difference1)"
      ],
      "execution_count": null,
      "outputs": [
        {
          "output_type": "stream",
          "name": "stdout",
          "text": [
            "[[11 -3]\n",
            " [-2  2]]\n"
          ]
        }
      ]
    },
    {
      "cell_type": "code",
      "metadata": {
        "colab": {
          "base_uri": "https://localhost:8080/"
        },
        "id": "H0jxjQg5b6Xq",
        "outputId": "3e68737d-ab7e-460e-e438-299acc95ca21"
      },
      "source": [
        "import numpy as np\n",
        "a = np.array([[-5,0],[4,1]]) \n",
        "b = np.array([[6,-3],[2,3]])\n",
        "difference2 = a - b\n",
        "print (difference2)"
      ],
      "execution_count": null,
      "outputs": [
        {
          "output_type": "stream",
          "name": "stdout",
          "text": [
            "[[-11   3]\n",
            " [  2  -2]]\n"
          ]
        }
      ]
    }
  ]
}