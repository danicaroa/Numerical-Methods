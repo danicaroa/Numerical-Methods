{
  "nbformat": 4,
  "nbformat_minor": 0,
  "metadata": {
    "colab": {
      "name": "Python Exercise 1_Numerical Method.ipynb",
      "provenance": [],
      "collapsed_sections": [],
      "authorship_tag": "ABX9TyPnglxQZQqkQXeqSElHpSKZ",
      "include_colab_link": true
    },
    "kernelspec": {
      "name": "python3",
      "display_name": "Python 3"
    },
    "language_info": {
      "name": "python"
    }
  },
  "cells": [
    {
      "cell_type": "markdown",
      "metadata": {
        "id": "view-in-github",
        "colab_type": "text"
      },
      "source": [
        "<a href=\"https://colab.research.google.com/github/danicaroa/Numerical-Methods/blob/main/Python_Exercise_1_Numerical_Method.ipynb\" target=\"_parent\"><img src=\"https://colab.research.google.com/assets/colab-badge.svg\" alt=\"Open In Colab\"/></a>"
      ]
    },
    {
      "cell_type": "markdown",
      "metadata": {
        "id": "byno39Msi3nz"
      },
      "source": [
        "### Python Exercise 1"
      ]
    },
    {
      "cell_type": "markdown",
      "metadata": {
        "id": "KJoNBmNdYkfU"
      },
      "source": [
        "Create a program using Python that allows a Student to type his/her name, the name of the course, and that computes his/her semestral grade (30% x PG + 30% x MG + 40% x FG)"
      ]
    },
    {
      "cell_type": "code",
      "metadata": {
        "colab": {
          "base_uri": "https://localhost:8080/"
        },
        "id": "EXQ9x9hRYvHX",
        "outputId": "7bedbc37-d0aa-4bbe-8a99-29e042cd0bf3"
      },
      "source": [
        "NAME = input (\"Enter Your Name: \")\n",
        "PROGRAM= input(\"Enter your Program: \")\n",
        "pg = float (input(\"Enter your Prelim Grade: \"))\n",
        "mg = float (input(\"Enter your Midterm Grade: \"))\n",
        "fg = float (input(\"Enter your Final Grade: \"))\n",
        "print(\" \")\n",
        "sem_grade=(pg*0.30)+(mg*0.30)+(fg*0.40)\n",
        "\n",
        "print(\"Student's Name: \", NAME)\n",
        "print(\"Program: \", PROGRAM)\n",
        "print(\" \")\n",
        "print(\"Your Semestral Grade is: \", sem_grade)"
      ],
      "execution_count": null,
      "outputs": [
        {
          "output_type": "stream",
          "text": [
            "Enter Your Name: DANICA KATE I. ROA\n",
            "Enter your Program: BS COMPUTER ENGINEERING\n",
            "Enter your Prelim Grade: 90\n",
            "Enter your Midterm Grade: 89\n",
            "Enter your Final Grade: 90\n",
            " \n",
            "Student's Name:  DANICA KATE I. ROA\n",
            "Program:  BS COMPUTER ENGINEERING\n",
            " \n",
            "Your Semestral Grade is:  89.7\n"
          ],
          "name": "stdout"
        }
      ]
    }
  ]
}